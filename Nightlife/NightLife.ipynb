{
 "cells": [
  {
   "cell_type": "code",
   "execution_count": 40,
   "metadata": {},
   "outputs": [],
   "source": [
    "import osmnx as ox\n",
    "import pandas as pd\n",
    "import geopandas as gpd\n",
    "import networkx as nx\n",
    "from shapely.geometry import Point, LineString\n",
    "import matplotlib.pyplot as plt\n",
    "import datetime\n",
    "from shapely.geometry import Polygon, MultiPolygon\n",
    "%matplotlib inline"
   ]
  },
  {
   "cell_type": "code",
   "execution_count": 41,
   "metadata": {},
   "outputs": [],
   "source": [
    "ox.config(data_folder='Data', logs_folder='logs', \n",
    "          imgs_folder='imgs', cache_folder='cache',\n",
    "          use_cache=True, log_console=True,log_name='osmnx', \n",
    "          log_file=True, log_filename='osmnx')\n",
    "\n",
    "crs_osm = {'init':'epsg:4326'}           #crs that osm uses"
   ]
  },
  {
   "cell_type": "code",
   "execution_count": 42,
   "metadata": {},
   "outputs": [],
   "source": [
    "def load_data(name):\n",
    "    area = gpd.read_file('Data/{}/{}_shape/'.format(name, name))\n",
    "    area = ox.project_gdf(area, to_crs=crs_osm)\n",
    "    geometry = area.unary_union\n",
    "    pois = ox.pois_from_polygon(geometry, amenities=['bar','pub','nightclub'])\n",
    "    pois = ox.project_gdf(pois, to_crs=crs_osm)\n",
    "\n",
    "    for item in ['way', 'relation']:\n",
    "        pois.loc[pois.element_type==item, 'geometry'] = \\\n",
    "            pois[pois.element_type==item]['geometry'].map(lambda x: x.centroid)\n",
    "\n",
    "    pois['geometry_type'] = pois.geometry.map(type)\n",
    "\n",
    "    s=pois['geometry']\n",
    "    pois['x'] = s.apply(lambda p: p.x)\n",
    "    pois['y'] = s.apply(lambda p: p.y)\n",
    "\n",
    "    dat_fin = gpd.sjoin(pois, area, op = 'within')\n",
    "    pois = dat_fin\n",
    "\n",
    "    G = ox.load_graphml('{}/{}_walk.graphml'.format(name,name))\n",
    "    G = ox.project_graph(G, to_crs=crs_osm)\n",
    "    return G, pois"
   ]
  },
  {
   "cell_type": "code",
   "execution_count": 48,
   "metadata": {},
   "outputs": [],
   "source": [
    "def make_plot(G, pois):\n",
    "    fig, ax = ox.plot_graph(G, node_color='#aaaaaa', node_size=0, show=False, close=True, fig_height=20, edge_linewidth=0.1, bgcolor='black',edge_color='#969494')\n",
    "    ax.scatter(pois.loc[pois['amenity'] == 'pub']['x'],pois.loc[pois['amenity'] == 'pub']['y'], zorder=3, c='magenta', alpha=0.5, marker='o',s=30)\n",
    "    ax.scatter(pois.loc[pois['amenity'] == 'bar']['x'],pois.loc[pois['amenity'] == 'bar']['y'], zorder=3, c='yellow', alpha=0.5, marker='o',s=30)\n",
    "    ax.scatter(pois.loc[pois['amenity'] == 'nightclub']['x'],pois.loc[pois['amenity'] == 'nightclub']['y'], zorder=3, c='cyan', alpha=0.5, marker='o',s=30)\n",
    "    suptitle_font = {'family':'DejaVu Sans', 'fontsize':45, 'fontweight':'normal', 'y':0.15, 'color':'white'}\n",
    "    fig.canvas.draw()\n",
    "    fig.savefig('imgs/{}_nightlife.png'.format(name),transparent=True, dpi=300)\n",
    "    fig"
   ]
  },
  {
   "cell_type": "code",
   "execution_count": 46,
   "metadata": {},
   "outputs": [
    {
     "name": "stderr",
     "output_type": "stream",
     "text": [
      "/anaconda3/lib/python3.6/site-packages/matplotlib/figure.py:445: UserWarning: Matplotlib is currently using module://ipykernel.pylab.backend_inline, which is a non-GUI backend, so cannot show the figure.\n",
      "  % get_backend())\n"
     ]
    }
   ],
   "source": [
    "name = 'Manhattan'\n",
    "G, pois = load_data(name)\n",
    "make_plot(G, pois)"
   ]
  },
  {
   "cell_type": "code",
   "execution_count": null,
   "metadata": {},
   "outputs": [],
   "source": []
  }
 ],
 "metadata": {
  "kernelspec": {
   "display_name": "Python 3",
   "language": "python",
   "name": "python3"
  },
  "language_info": {
   "codemirror_mode": {
    "name": "ipython",
    "version": 3
   },
   "file_extension": ".py",
   "mimetype": "text/x-python",
   "name": "python",
   "nbconvert_exporter": "python",
   "pygments_lexer": "ipython3",
   "version": "3.7.1"
  }
 },
 "nbformat": 4,
 "nbformat_minor": 2
}
